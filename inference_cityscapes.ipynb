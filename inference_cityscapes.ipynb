{
 "cells": [
  {
   "cell_type": "markdown",
   "id": "75ac29f3",
   "metadata": {},
   "source": [
    "# Finetuned DETR on KITTI\n",
    "## Inference: \n",
    "### Custom KITTI image preprocessing tranformation"
   ]
  },
  {
   "cell_type": "code",
   "execution_count": null,
   "id": "c0d4ce88",
   "metadata": {},
   "outputs": [],
   "source": [
    "import json\n",
    "log_path = '/home/anazeri/detr_finetune/detr-r50-KITTI-orighead92fc-50epch/log.txt'\n",
    "logs = []\n",
    "with open(log_path, 'r') as f:\n",
    "    for line in f:\n",
    "        logs.append(json.loads(line))\n",
    "\n",
    "import matplotlib.pyplot as plt\n",
    "\n",
    "\n",
    "\n",
    "# Extract values\n",
    "epochs = [entry[\"epoch\"] for entry in logs]\n",
    "train_loss_ce = [entry[\"train_loss_ce\"] for entry in logs]\n",
    "test_loss_ce = [entry[\"test_loss_ce\"] for entry in logs]  \n",
    "train_loss = [entry[\"train_loss\"] for entry in logs]\n",
    "test_loss = [entry[\"test_loss\"] for entry in logs]\n",
    "\n",
    "loss_list = [train_loss, test_loss, train_loss_ce, test_loss_ce]\n",
    "loss_list_label = [\"train_loss\", \"test_loss\", \"train_loss_ce\", \"test_loss_ce\"]\n",
    "\n",
    "plt.figure(figsize=(8, 5))\n",
    "for i, (pl, _label) in enumerate(zip(loss_list, loss_list_label)):\n",
    "    plt.plot(epochs, pl, label= _label)\n",
    "    if i == 1 or i == 3:        \n",
    "        plt.xlabel('Epochs')\n",
    "        plt.ylabel('Loss')\n",
    "        plt.title('fine-tuned DETR on KITTI Ablation')\n",
    "        plt.legend()\n",
    "        plt.grid()\n",
    "        plt.show()\n",
    "        \n",
    "\"\"\"\n",
    "epoch = 44 one of top AP:\n",
    "\n",
    " Average Precision  (AP) @[ IoU=0.50:0.95 | area=   all | maxDets=100 ] = 0.374\n",
    " Average Precision  (AP) @[ IoU=0.50      | area=   all | maxDets=100 ] = 0.706\n",
    " Average Precision  (AP) @[ IoU=0.75      | area=   all | maxDets=100 ] = 0.349\n",
    " Average Precision  (AP) @[ IoU=0.50:0.95 | area= small | maxDets=100 ] = 0.239\n",
    " Average Precision  (AP) @[ IoU=0.50:0.95 | area=medium | maxDets=100 ] = 0.367\n",
    " Average Precision  (AP) @[ IoU=0.50:0.95 | area= large | maxDets=100 ] = 0.510\n",
    " Average Recall     (AR) @[ IoU=0.50:0.95 | area=   all | maxDets=  1 ] = 0.307\n",
    " Average Recall     (AR) @[ IoU=0.50:0.95 | area=   all | maxDets= 10 ] = 0.524\n",
    " Average Recall     (AR) @[ IoU=0.50:0.95 | area=   all | maxDets=100 ] = 0.562\n",
    " Average Recall     (AR) @[ IoU=0.50:0.95 | area= small | maxDets=100 ] = 0.428\n",
    " Average Recall     (AR) @[ IoU=0.50:0.95 | area=medium | maxDets=100 ] = 0.542\n",
    " Average Recall     (AR) @[ IoU=0.50:0.95 | area= large | maxDets=100 ] = 0.691\n",
    "\n",
    "\"\"\""
   ]
  }
 ],
 "metadata": {
  "language_info": {
   "name": "python"
  }
 },
 "nbformat": 4,
 "nbformat_minor": 5
}
